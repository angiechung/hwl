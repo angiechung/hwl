{
  "nbformat": 4,
  "nbformat_minor": 0,
  "metadata": {
    "colab": {
      "provenance": []
    },
    "kernelspec": {
      "name": "python3",
      "display_name": "Python 3"
    },
    "language_info": {
      "name": "python"
    }
  },
  "cells": [
    {
      "cell_type": "code",
      "source": [
        "x = \"B1205008\"\n",
        "print(x)\n",
        "print(type(x))\n",
        "y=\"angie\" #name\n",
        "print(y)\n",
        "print(type(y))\n",
        "\n"
      ],
      "metadata": {
        "colab": {
          "base_uri": "https://localhost:8080/"
        },
        "id": "S_JGdcwyA5zg",
        "outputId": "46d5ffae-bdd4-4382-8f52-6bce60633892"
      },
      "execution_count": 8,
      "outputs": [
        {
          "output_type": "stream",
          "name": "stdout",
          "text": [
            "B1205008\n",
            "<class 'str'>\n",
            "angie\n",
            "<class 'str'>\n"
          ]
        }
      ]
    },
    {
      "cell_type": "code",
      "execution_count": 2,
      "metadata": {
        "colab": {
          "base_uri": "https://localhost:8080/"
        },
        "id": "ZK1fw_Ix8cNh",
        "outputId": "0b88427f-6b62-4cef-8c2a-8da1c3cbefe4"
      },
      "outputs": [
        {
          "output_type": "stream",
          "name": "stdout",
          "text": [
            "Name: 鍾宜臻, 學號:b1205008 \n"
          ]
        }
      ],
      "source": [
        "my_dict={\"name\": \"鍾宜臻\", \"學號\":\"b1205008\"}\n",
        "# 訪問字典中的值\n",
        "name=my_dict[\"name\"]\n",
        "學號=my_dict[\"學號\"]\n",
        "print(f\"Name: {name}, 學號:{學號} \")"
      ]
    },
    {
      "cell_type": "code",
      "source": [
        "x=\"angie\" #name\n",
        "print(x)\n",
        "print(type(x))\n",
        "y=\"b1205008\" #name\n",
        "print(y)\n",
        "print(type(y))\n",
        "\n",
        "\n"
      ],
      "metadata": {
        "colab": {
          "base_uri": "https://localhost:8080/"
        },
        "id": "6HsQTbmSB8hv",
        "outputId": "b6ddc489-2637-4dbb-b7ba-d90b1acb3aa6"
      },
      "execution_count": 9,
      "outputs": [
        {
          "output_type": "stream",
          "name": "stdout",
          "text": [
            "angie\n",
            "<class 'str'>\n",
            "b1205008\n",
            "<class 'str'>\n"
          ]
        }
      ]
    }
  ]
}